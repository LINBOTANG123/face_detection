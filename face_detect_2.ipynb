{
 "cells": [
  {
   "cell_type": "code",
   "execution_count": 1,
   "metadata": {},
   "outputs": [
    {
     "name": "stdout",
     "output_type": "stream",
     "text": [
      "Requirement already satisfied: opencv-python in /opt/homebrew/Caskroom/miniconda/base/envs/video/lib/python3.8/site-packages (4.8.0.76)\n",
      "Requirement already satisfied: numpy>=1.21.0 in /opt/homebrew/Caskroom/miniconda/base/envs/video/lib/python3.8/site-packages (from opencv-python) (1.24.4)\n",
      "Requirement already satisfied: face_recognition in /opt/homebrew/Caskroom/miniconda/base/envs/video/lib/python3.8/site-packages (1.3.0)\n",
      "Requirement already satisfied: face-recognition-models>=0.3.0 in /opt/homebrew/Caskroom/miniconda/base/envs/video/lib/python3.8/site-packages (from face_recognition) (0.3.0)\n",
      "Requirement already satisfied: Click>=6.0 in /opt/homebrew/Caskroom/miniconda/base/envs/video/lib/python3.8/site-packages (from face_recognition) (8.1.6)\n",
      "Requirement already satisfied: dlib>=19.7 in /opt/homebrew/Caskroom/miniconda/base/envs/video/lib/python3.8/site-packages (from face_recognition) (19.24.2)\n",
      "Requirement already satisfied: numpy in /opt/homebrew/Caskroom/miniconda/base/envs/video/lib/python3.8/site-packages (from face_recognition) (1.24.4)\n",
      "Requirement already satisfied: Pillow in /opt/homebrew/Caskroom/miniconda/base/envs/video/lib/python3.8/site-packages (from face_recognition) (10.0.0)\n",
      "Requirement already satisfied: mediapipe in /opt/homebrew/Caskroom/miniconda/base/envs/video/lib/python3.8/site-packages (0.10.5)\n",
      "Requirement already satisfied: absl-py in /opt/homebrew/Caskroom/miniconda/base/envs/video/lib/python3.8/site-packages (from mediapipe) (2.0.0)\n",
      "Requirement already satisfied: attrs>=19.1.0 in /opt/homebrew/Caskroom/miniconda/base/envs/video/lib/python3.8/site-packages (from mediapipe) (23.1.0)\n",
      "Requirement already satisfied: flatbuffers>=2.0 in /opt/homebrew/Caskroom/miniconda/base/envs/video/lib/python3.8/site-packages (from mediapipe) (23.5.26)\n",
      "Requirement already satisfied: matplotlib in /opt/homebrew/Caskroom/miniconda/base/envs/video/lib/python3.8/site-packages (from mediapipe) (3.7.3)\n",
      "Requirement already satisfied: numpy in /opt/homebrew/Caskroom/miniconda/base/envs/video/lib/python3.8/site-packages (from mediapipe) (1.24.4)\n",
      "Requirement already satisfied: opencv-contrib-python in /opt/homebrew/Caskroom/miniconda/base/envs/video/lib/python3.8/site-packages (from mediapipe) (4.8.1.78)\n",
      "Requirement already satisfied: protobuf<4,>=3.11 in /opt/homebrew/Caskroom/miniconda/base/envs/video/lib/python3.8/site-packages (from mediapipe) (3.20.3)\n",
      "Requirement already satisfied: sounddevice>=0.4.4 in /opt/homebrew/Caskroom/miniconda/base/envs/video/lib/python3.8/site-packages (from mediapipe) (0.4.6)\n",
      "Requirement already satisfied: CFFI>=1.0 in /opt/homebrew/Caskroom/miniconda/base/envs/video/lib/python3.8/site-packages (from sounddevice>=0.4.4->mediapipe) (1.15.1)\n",
      "Requirement already satisfied: contourpy>=1.0.1 in /opt/homebrew/Caskroom/miniconda/base/envs/video/lib/python3.8/site-packages (from matplotlib->mediapipe) (1.1.1)\n",
      "Requirement already satisfied: cycler>=0.10 in /opt/homebrew/Caskroom/miniconda/base/envs/video/lib/python3.8/site-packages (from matplotlib->mediapipe) (0.11.0)\n",
      "Requirement already satisfied: fonttools>=4.22.0 in /opt/homebrew/Caskroom/miniconda/base/envs/video/lib/python3.8/site-packages (from matplotlib->mediapipe) (4.42.1)\n",
      "Requirement already satisfied: kiwisolver>=1.0.1 in /opt/homebrew/Caskroom/miniconda/base/envs/video/lib/python3.8/site-packages (from matplotlib->mediapipe) (1.4.5)\n",
      "Requirement already satisfied: packaging>=20.0 in /opt/homebrew/Caskroom/miniconda/base/envs/video/lib/python3.8/site-packages (from matplotlib->mediapipe) (23.1)\n",
      "Requirement already satisfied: pillow>=6.2.0 in /opt/homebrew/Caskroom/miniconda/base/envs/video/lib/python3.8/site-packages (from matplotlib->mediapipe) (10.0.0)\n",
      "Requirement already satisfied: pyparsing>=2.3.1 in /opt/homebrew/Caskroom/miniconda/base/envs/video/lib/python3.8/site-packages (from matplotlib->mediapipe) (3.1.1)\n",
      "Requirement already satisfied: python-dateutil>=2.7 in /opt/homebrew/Caskroom/miniconda/base/envs/video/lib/python3.8/site-packages (from matplotlib->mediapipe) (2.8.2)\n",
      "Requirement already satisfied: importlib-resources>=3.2.0 in /opt/homebrew/Caskroom/miniconda/base/envs/video/lib/python3.8/site-packages (from matplotlib->mediapipe) (6.1.0)\n",
      "Requirement already satisfied: pycparser in /opt/homebrew/Caskroom/miniconda/base/envs/video/lib/python3.8/site-packages (from CFFI>=1.0->sounddevice>=0.4.4->mediapipe) (2.21)\n",
      "Requirement already satisfied: zipp>=3.1.0 in /opt/homebrew/Caskroom/miniconda/base/envs/video/lib/python3.8/site-packages (from importlib-resources>=3.2.0->matplotlib->mediapipe) (3.17.0)\n",
      "Requirement already satisfied: six>=1.5 in /opt/homebrew/Caskroom/miniconda/base/envs/video/lib/python3.8/site-packages (from python-dateutil>=2.7->matplotlib->mediapipe) (1.16.0)\n"
     ]
    }
   ],
   "source": [
    "!pip install opencv-python\n",
    "!pip install mediapipe"
   ]
  },
  {
   "cell_type": "code",
   "execution_count": 2,
   "metadata": {},
   "outputs": [],
   "source": [
    "import cv2\n",
    "import os\n",
    "import mediapipe as mp"
   ]
  },
  {
   "cell_type": "code",
   "execution_count": 9,
   "metadata": {},
   "outputs": [],
   "source": [
    "from pathlib import Path\n",
    "import cv2\n",
    "import mediapipe as mp\n",
    "import numpy as np\n",
    "\n",
    "\n",
    "def detect_face_single(vid_path: Path):\n",
    "    mp_face_detection = mp.solutions.face_detection\n",
    "    mp_face_mesh = mp.solutions.face_mesh\n",
    "    \n",
    "    cap = cv2.VideoCapture(str(vid_path))\n",
    "    frames = 0\n",
    "    full_face_detected = 0\n",
    "    unstable_count = 0\n",
    "    \n",
    "    brightness_threshold_dark = 50\n",
    "    brightness_threshold_light = 200\n",
    "    unstable_threshold = 0.7\n",
    "    \n",
    "    ret, prev_frame = cap.read()\n",
    "    if not ret:\n",
    "        cap.release()\n",
    "        return f\"Unable to read video file {vid_path.name}\"\n",
    "    \n",
    "    average_brightness = (brightness_threshold_light + brightness_threshold_dark) / 2\n",
    "    prev_gray = cv2.cvtColor(prev_frame, cv2.COLOR_BGR2GRAY)\n",
    "    \n",
    "    with mp_face_detection.FaceDetection(min_detection_confidence=0.5) as face_detection, \\\n",
    "         mp_face_mesh.FaceMesh(min_detection_confidence=0.5, min_tracking_confidence=0.5) as face_mesh:\n",
    "        \n",
    "        while True:\n",
    "            ret, frame = cap.read()\n",
    "            if not ret:\n",
    "                break\n",
    "            frames += 1\n",
    "            gray = cv2.cvtColor(frame, cv2.COLOR_BGR2GRAY)\n",
    "            flow = cv2.calcOpticalFlowFarneback(prev_gray, gray, None, 0.5, 3, 15, 3, 5, 1.2, 0)\n",
    "            mag, ang = cv2.cartToPolar(flow[...,0], flow[...,1])\n",
    "            \n",
    "            if np.mean(mag) > unstable_threshold:\n",
    "                unstable_count += 1\n",
    "                \n",
    "            prev_gray = gray\n",
    "            rgb_frame = cv2.cvtColor(frame, cv2.COLOR_BGR2RGB)\n",
    "            results = face_detection.process(rgb_frame)\n",
    "            \n",
    "            if results.detections:\n",
    "                for detection in results.detections:\n",
    "                    bboxC = detection.location_data.relative_bounding_box\n",
    "                    ih, iw, _ = frame.shape\n",
    "                    x, y, w, h = int(bboxC.xmin * iw), int(bboxC.ymin * ih), \\\n",
    "                                 int(bboxC.width * iw), int(bboxC.height * ih)\n",
    "                    face_region = frame[y:y+h, x:x+w]\n",
    "                    \n",
    "                    if not face_region.size:\n",
    "                        continue\n",
    "                    average_brightness = cv2.cvtColor(face_region, cv2.COLOR_BGR2GRAY).mean()\n",
    "                    rgb_face_region = cv2.cvtColor(face_region, cv2.COLOR_BGR2RGB)\n",
    "                    landmarks = face_mesh.process(rgb_face_region).multi_face_landmarks\n",
    "                    \n",
    "                    if landmarks and len(landmarks) > 0:\n",
    "                        full_face_detected += 1\n",
    "    \n",
    "    frac_full_face_detected = (full_face_detected / frames) if frames > 0 else 0\n",
    "    result = f\"{vid_path.name},{frac_full_face_detected:.2f},{average_brightness},{unstable_count/frames:.2f}\"\n",
    "    cap.release()\n",
    "    cv2.destroyAllWindows()\n",
    "    \n",
    "    return result"
   ]
  },
  {
   "cell_type": "code",
   "execution_count": 10,
   "metadata": {},
   "outputs": [],
   "source": [
    "def detect_faces_files(file_paths, result_file: Path):\n",
    "    header = \"filename,frac full face detected,average brightness,frac unstable\"\n",
    "    print(header)\n",
    "    \n",
    "    with result_file.open('w') as f:\n",
    "        f.write(f\"{header}\\n\")\n",
    "        for file_path in file_paths:\n",
    "            result = detect_face_single(file_path)\n",
    "            f.write(f\"{result}\\n\")"
   ]
  },
  {
   "cell_type": "code",
   "execution_count": 11,
   "metadata": {},
   "outputs": [
    {
     "name": "stdout",
     "output_type": "stream",
     "text": [
      "filename,frac full face detected,average brightness,frac unstable\n"
     ]
    }
   ],
   "source": [
    "file_paths = [Path('/Users/linbotang/Documents/video/dataset/Beta_Test_Videos/1694209618941$$image_picker_C282160F_38EF_40E9_9722_620C6A1C8EBD_21021_0000033FA019E7D471590239214__DEF147D0_462E_4B63_9D1A_30643A5DDBC9A6BFE990_CF7F_43FF_82CB_9A138F7E9FFD.mp4'), Path('/Users/linbotang/Documents/video/dataset/Beta_Test_Videos/1694274607403$$image_picker_07CEBE31_1A63_4752_AB90_EF04D3A94BA7_1080_00000017638EA99371596734951__E7EC5537_9A93_4DB9_A76D_4632704B284D04BEF005_0BE3_4C99_AE68_4D25DBE5631A.mp4')]  # Replace with actual paths\n",
    "output_file = Path('result.csv')\n",
    "detect_faces_files(file_paths, output_file)"
   ]
  },
  {
   "cell_type": "code",
   "execution_count": null,
   "metadata": {},
   "outputs": [],
   "source": []
  }
 ],
 "metadata": {
  "kernelspec": {
   "display_name": "Python 3 (ipykernel)",
   "language": "python",
   "name": "python3"
  },
  "language_info": {
   "codemirror_mode": {
    "name": "ipython",
    "version": 3
   },
   "file_extension": ".py",
   "mimetype": "text/x-python",
   "name": "python",
   "nbconvert_exporter": "python",
   "pygments_lexer": "ipython3",
   "version": "3.8.17"
  }
 },
 "nbformat": 4,
 "nbformat_minor": 4
}
